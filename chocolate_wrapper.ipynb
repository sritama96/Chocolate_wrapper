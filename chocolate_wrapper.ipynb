{
  "nbformat": 4,
  "nbformat_minor": 0,
  "metadata": {
    "colab": {
      "name": "chocolate_wrapper.ipynb",
      "provenance": [],
      "collapsed_sections": []
    },
    "kernelspec": {
      "name": "python3",
      "display_name": "Python 3"
    }
  },
  "cells": [
    {
      "cell_type": "code",
      "metadata": {
        "id": "yb3gLqGuy0PZ"
      },
      "source": [
        "def money(n):\r\n",
        "    \"\"\"Since every chocolate is of Rs: 1.\r\n",
        "    Then in the very beginning we will get n number of chocolates.\"\"\"\r\n",
        "    choco = n\r\n",
        "    wr = choco ## We get the same number of wrappers as the number of chocolates\r\n",
        "    \"\"\"The company tells that customer can exchange 3 chocolate wrappers with 1 chocolate.\"\"\"\r\n",
        "    if(choco < 3):\r\n",
        "        print(\"The maximum number of  chcocolates is \" + str(choco))\r\n",
        "    while (wr >= 3):\r\n",
        "        choco = choco + wr//3\r\n",
        "        wr = (wr//3) + (wr%3)\r\n",
        "    print(\"The maximum number of  chcocolates is \" + str(choco))\r\n",
        "    \r\n"
      ],
      "execution_count": 49,
      "outputs": []
    },
    {
      "cell_type": "code",
      "metadata": {
        "colab": {
          "base_uri": "https://localhost:8080/"
        },
        "id": "KHfTz1Vj4uPR",
        "outputId": "792328f2-85f1-4cab-8160-8348bcb391c0"
      },
      "source": [
        "\"\"\"Example\"\"\"\r\n",
        "money(21)"
      ],
      "execution_count": 51,
      "outputs": [
        {
          "output_type": "stream",
          "text": [
            "The maximum number of  chcocolates is 31\n"
          ],
          "name": "stdout"
        }
      ]
    },
    {
      "cell_type": "code",
      "metadata": {
        "id": "kGXaH3TN5EVk"
      },
      "source": [
        ""
      ],
      "execution_count": null,
      "outputs": []
    }
  ]
}